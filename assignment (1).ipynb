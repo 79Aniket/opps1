{
 "cells": [
  {
   "cell_type": "markdown",
   "id": "1587c115-329b-4f4a-9360-cd95b9d83792",
   "metadata": {},
   "source": [
    "### Q1, Create a vehicle class with an init method having instance variables as name_of_vehicle, max_speed\n",
    "### and average_of_vehicle."
   ]
  },
  {
   "cell_type": "code",
   "execution_count": 45,
   "id": "1547d0a6-2a45-462b-a4b5-065c3ca74270",
   "metadata": {},
   "outputs": [],
   "source": [
    "class vehicle:\n",
    "    \n",
    "    def __init__(self, name_of_vehicle, max_speed, average_of_vehicle):\n",
    "        self.name_of_vehicle = name_of_vehicle\n",
    "        self.max_speed = max_speed\n",
    "        self.average_of_vehicle = average_of_vehicle\n",
    "        \n",
    "    def return_vehicle_details(self):\n",
    "        return self.name_of_vehicle, self.max_speed, self.average_of_vehicle"
   ]
  },
  {
   "cell_type": "code",
   "execution_count": 46,
   "id": "5d9e5641-118d-42cf-bb2d-145b12646cbb",
   "metadata": {},
   "outputs": [],
   "source": [
    "sport_car = vehicle(\"AduiQ3\",  300, 15.50)"
   ]
  },
  {
   "cell_type": "code",
   "execution_count": 47,
   "id": "80d0abdf-22d8-48cd-a70c-36a82cc42ef2",
   "metadata": {},
   "outputs": [
    {
     "data": {
      "text/plain": [
       "('AduiQ3', 300, 15.5)"
      ]
     },
     "execution_count": 47,
     "metadata": {},
     "output_type": "execute_result"
    }
   ],
   "source": [
    "sport_car.return_vehicle_details()"
   ]
  },
  {
   "cell_type": "code",
   "execution_count": 48,
   "id": "1c87e5c9-02d3-4c34-ad6d-e5b7c0207c30",
   "metadata": {},
   "outputs": [
    {
     "data": {
      "text/plain": [
       "15.5"
      ]
     },
     "execution_count": 48,
     "metadata": {},
     "output_type": "execute_result"
    }
   ],
   "source": [
    "sport_car.average_of_vehicle"
   ]
  },
  {
   "cell_type": "code",
   "execution_count": 49,
   "id": "f427809a-c19e-4ebc-b6fd-d2c9df79b6b5",
   "metadata": {},
   "outputs": [
    {
     "data": {
      "text/plain": [
       "300"
      ]
     },
     "execution_count": 49,
     "metadata": {},
     "output_type": "execute_result"
    }
   ],
   "source": [
    "sport_car.max_speed"
   ]
  },
  {
   "cell_type": "code",
   "execution_count": 50,
   "id": "a143e74a-7df4-41ff-bc5d-16776a9811e1",
   "metadata": {},
   "outputs": [
    {
     "data": {
      "text/plain": [
       "'AduiQ3'"
      ]
     },
     "execution_count": 50,
     "metadata": {},
     "output_type": "execute_result"
    }
   ],
   "source": [
    "sport_car.name_of_vehicle"
   ]
  },
  {
   "cell_type": "code",
   "execution_count": null,
   "id": "ba57c898-26ec-4331-b5da-2356f3b7769d",
   "metadata": {},
   "outputs": [],
   "source": []
  },
  {
   "cell_type": "markdown",
   "id": "c6ac658c-ebe3-4f2d-8237-c55eeb926966",
   "metadata": {},
   "source": [
    "### Q3. What is multiple inheritance? Write a python code to demonstrate multiple inheritance"
   ]
  },
  {
   "cell_type": "code",
   "execution_count": 51,
   "id": "e974f807-e580-43c1-8e4d-6b1941018515",
   "metadata": {},
   "outputs": [],
   "source": [
    "class multiple2:\n",
    "    def test_multiple2(self):\n",
    "        return \"this is my first multiple test\"\n",
    "    "
   ]
  },
  {
   "cell_type": "code",
   "execution_count": 56,
   "id": "23370b80-b642-44a1-852f-60ccdefb82c8",
   "metadata": {},
   "outputs": [],
   "source": [
    "class multiple3:\n",
    "    def test_multiple3(self):\n",
    "        return \"this is my second multiple test\""
   ]
  },
  {
   "cell_type": "code",
   "execution_count": 57,
   "id": "06c04e05-100d-4ed9-850e-ffac2f959233",
   "metadata": {},
   "outputs": [],
   "source": [
    "class multiple4(multiple2, multiple3):\n",
    "    pass"
   ]
  },
  {
   "cell_type": "code",
   "execution_count": 61,
   "id": "9e3d583d-3d8e-4877-ae1a-4f240eeedb36",
   "metadata": {},
   "outputs": [],
   "source": [
    "test_multiple4 = multiple4()"
   ]
  },
  {
   "cell_type": "code",
   "execution_count": 62,
   "id": "c0be48cc-9a8d-4a2f-b41b-0c2b6848c436",
   "metadata": {},
   "outputs": [
    {
     "data": {
      "text/plain": [
       "'this is my first multiple test'"
      ]
     },
     "execution_count": 62,
     "metadata": {},
     "output_type": "execute_result"
    }
   ],
   "source": [
    "test_multiple4.test_multiple2()"
   ]
  },
  {
   "cell_type": "code",
   "execution_count": 63,
   "id": "b6f3105c-eb92-4ef6-b483-f62c108899e2",
   "metadata": {},
   "outputs": [
    {
     "data": {
      "text/plain": [
       "'this is my second multiple test'"
      ]
     },
     "execution_count": 63,
     "metadata": {},
     "output_type": "execute_result"
    }
   ],
   "source": [
    "test_multiple4.test_multiple3()"
   ]
  },
  {
   "cell_type": "code",
   "execution_count": null,
   "id": "f36bea12-2f17-4464-a3e6-43c9656cf659",
   "metadata": {},
   "outputs": [],
   "source": []
  },
  {
   "cell_type": "markdown",
   "id": "98b0a2f1-4c9f-4602-a9b4-9d15efcd9916",
   "metadata": {},
   "source": [
    "### Q5.What is method overriding in python? Write a python code to demonstrate method overriding."
   ]
  },
  {
   "cell_type": "code",
   "execution_count": 1,
   "id": "c9b32ec4-2d8a-4b9a-be8c-64cc7198c9d7",
   "metadata": {},
   "outputs": [],
   "source": [
    "class Tree:\n",
    "    \n",
    "    def green(self):\n",
    "        return \"this is a forest class\"\n"
   ]
  },
  {
   "cell_type": "code",
   "execution_count": 2,
   "id": "1f5cece3-943e-42bc-a016-11ff04e97647",
   "metadata": {},
   "outputs": [],
   "source": [
    "class plant(Tree):\n",
    "    \n",
    "    def green(self):\n",
    "        return \"this is a small forest class\""
   ]
  },
  {
   "cell_type": "code",
   "execution_count": 3,
   "id": "b4d46ff2-d8d4-442d-94cc-632a5f0cf77e",
   "metadata": {},
   "outputs": [],
   "source": [
    "obj_plant = plant()"
   ]
  },
  {
   "cell_type": "code",
   "execution_count": null,
   "id": "29df7b4c-43fd-4a43-850e-3d3e79ff3704",
   "metadata": {},
   "outputs": [],
   "source": []
  },
  {
   "cell_type": "markdown",
   "id": "2b71f617-6da3-4047-a497-c4b37fefc517",
   "metadata": {},
   "source": [
    "### Q4. What are getter and setter in python? Create a class and create a getter and a setter method in this\n",
    "#### class.\n",
    "\n"
   ]
  },
  {
   "cell_type": "code",
   "execution_count": 1,
   "id": "4e53cbe9-2039-48b5-a56d-fa5910c297c2",
   "metadata": {},
   "outputs": [],
   "source": [
    "class pwskills:\n",
    "    def __init__(self, age):\n",
    "        self.__age = age\n",
    "        \n",
    "    @property\n",
    "    def age_access(self):\n",
    "        return self.__age \n",
    "    \n",
    "    @age_access.setter\n",
    "    def age_set(self, new_age):\n",
    "        self.__age = new_name\n",
    "        \n",
    "    \n",
    "  \n",
    "    "
   ]
  },
  {
   "cell_type": "code",
   "execution_count": 2,
   "id": "d851cf17-9ab3-455a-87ea-e686cfa21960",
   "metadata": {},
   "outputs": [],
   "source": [
    "pw = pwskills(20)"
   ]
  },
  {
   "cell_type": "code",
   "execution_count": 3,
   "id": "a3488cf5-93a1-4a1d-92ee-47bcd0d9e21c",
   "metadata": {},
   "outputs": [
    {
     "data": {
      "text/plain": [
       "20"
      ]
     },
     "execution_count": 3,
     "metadata": {},
     "output_type": "execute_result"
    }
   ],
   "source": [
    "pw.age_access"
   ]
  },
  {
   "cell_type": "code",
   "execution_count": 6,
   "id": "7871e709-2749-4dac-a21d-5f4280935792",
   "metadata": {},
   "outputs": [
    {
     "ename": "TypeError",
     "evalue": "'int' object is not callable",
     "output_type": "error",
     "traceback": [
      "\u001b[0;31m---------------------------------------------------------------------------\u001b[0m",
      "\u001b[0;31mTypeError\u001b[0m                                 Traceback (most recent call last)",
      "Cell \u001b[0;32mIn[6], line 1\u001b[0m\n\u001b[0;32m----> 1\u001b[0m \u001b[43mpw\u001b[49m\u001b[38;5;241;43m.\u001b[39;49m\u001b[43mage_set\u001b[49m\u001b[43m(\u001b[49m\u001b[38;5;241;43m30\u001b[39;49m\u001b[43m)\u001b[49m\n",
      "\u001b[0;31mTypeError\u001b[0m: 'int' object is not callable"
     ]
    }
   ],
   "source": [
    "pw.ag"
   ]
  },
  {
   "cell_type": "code",
   "execution_count": null,
   "id": "19fe50b1-2371-435e-97f9-981fb59e8618",
   "metadata": {},
   "outputs": [],
   "source": []
  }
 ],
 "metadata": {
  "kernelspec": {
   "display_name": "Python 3 (ipykernel)",
   "language": "python",
   "name": "python3"
  },
  "language_info": {
   "codemirror_mode": {
    "name": "ipython",
    "version": 3
   },
   "file_extension": ".py",
   "mimetype": "text/x-python",
   "name": "python",
   "nbconvert_exporter": "python",
   "pygments_lexer": "ipython3",
   "version": "3.10.8"
  }
 },
 "nbformat": 4,
 "nbformat_minor": 5
}
